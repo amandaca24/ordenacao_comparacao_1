{
 "cells": [
  {
   "cell_type": "code",
   "execution_count": 4,
   "metadata": {},
   "outputs": [
    {
     "name": "stdout",
     "output_type": "stream",
     "text": [
      "[5, 6, 7, 11, 12, 13]\n"
     ]
    }
   ],
   "source": [
    "#implementação do maxify\n",
    "def maxfy(lista, n, raiz):\n",
    "    #n = tamanho da heap\n",
    "    maior = raiz\n",
    "    esquerda = 2*raiz+1 \n",
    "    direita = 2*raiz+2\n",
    "    \n",
    "    #comparação com o filho a esquerda e se é maior que raiz\n",
    "    if esquerda < n and lista[raiz] < lista[esquerda]:\n",
    "        maior = esquerda\n",
    "    \n",
    "    #comparação com o filho da direita e se é maior que raiz\n",
    "    if direita < n and lista[maior] < lista[direita]:\n",
    "        maior = direita\n",
    "    \n",
    "    #mudar a raiz, caso necessário\n",
    "    if maior != raiz:\n",
    "        lista[raiz], lista[maior] = lista[maior], lista[raiz]\n",
    "        \n",
    "        maxfy(lista, raiz, maior)\n",
    "        \n",
    "#Implementação do Heap Sort\n",
    "def heapSort(lista):\n",
    "    n = len(lista)\n",
    "    \n",
    "    for i in range(n, -1, -1):\n",
    "        maxfy(lista, n, i)\n",
    "        \n",
    "    #extração dos elementos individualmente\n",
    "    for i in range(n-1, 0, -1):\n",
    "        lista[i], lista[0] = lista[0], lista[i]\n",
    "        maxfy(lista, i, 0)\n",
    "        \n",
    "\n",
    "#Teste\n",
    "lista = [12, 11, 13, 5, 6, 7]\n",
    "heapSort(lista)\n",
    "print(lista)\n",
    "    \n",
    "    \n",
    "    "
   ]
  },
  {
   "cell_type": "code",
   "execution_count": null,
   "metadata": {},
   "outputs": [],
   "source": []
  }
 ],
 "metadata": {
  "kernelspec": {
   "display_name": "Python 3",
   "language": "python",
   "name": "python3"
  },
  "language_info": {
   "codemirror_mode": {
    "name": "ipython",
    "version": 3
   },
   "file_extension": ".py",
   "mimetype": "text/x-python",
   "name": "python",
   "nbconvert_exporter": "python",
   "pygments_lexer": "ipython3",
   "version": "3.6.4"
  }
 },
 "nbformat": 4,
 "nbformat_minor": 2
}
